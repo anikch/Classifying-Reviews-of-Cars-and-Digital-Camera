{
  "nbformat": 4,
  "nbformat_minor": 0,
  "metadata": {
    "colab": {
      "name": "Classifying Reviews of Cars and Digital Camera.ipynb",
      "provenance": [],
      "collapsed_sections": [],
      "authorship_tag": "ABX9TyP4UPyu3xN1sd00ihkUW0ks",
      "include_colab_link": true
    },
    "kernelspec": {
      "name": "python3",
      "display_name": "Python 3"
    },
    "language_info": {
      "name": "python"
    }
  },
  "cells": [
    {
      "cell_type": "markdown",
      "metadata": {
        "id": "view-in-github",
        "colab_type": "text"
      },
      "source": [
        "<a href=\"https://colab.research.google.com/github/anikch/Classifying-Reviews-of-Cars-and-Digital-Camera/blob/main/Classifying_Reviews_of_Cars_and_Digital_Camera.ipynb\" target=\"_parent\"><img src=\"https://colab.research.google.com/assets/colab-badge.svg\" alt=\"Open In Colab\"/></a>"
      ]
    },
    {
      "cell_type": "markdown",
      "metadata": {
        "id": "1lmv45S4NznX"
      },
      "source": [
        "Epinions.com is a website where people can post reviews of products and services. It covers a wide variety of topics. For this case study, we downloaded a set of 600 posts about digital cameras and cars and saved as “Eopinions.csv”. The dataset has 2 columns: ‘class’ and ‘text’.\n",
        "We need to predict 'class' based on 'text'.\n"
      ]
    },
    {
      "cell_type": "code",
      "metadata": {
        "id": "ns3xMXZ1Lm2H"
      },
      "source": [
        "# Importing required libraries\n",
        "import nltk\n",
        "from nltk.tokenize import word_tokenize\n",
        "from nltk.stem import WordNetLemmatizer\n",
        "from nltk.corpus import stopwords\n",
        "from nltk import FreqDist\n",
        "import re\n",
        "from collections import Counter\n",
        "from sklearn.feature_extraction.text import TfidfVectorizer, CountVectorizer\n",
        "import pandas as pd\n",
        "import numpy as np\n",
        "from sklearn.preprocessing import LabelEncoder\n",
        "from sklearn.model_selection import train_test_split\n",
        "from sklearn.metrics import classification_report, plot_roc_curve, accuracy_score, plot_confusion_matrix\n",
        "from sklearn.decomposition import PCA\n",
        "from xgboost import XGBClassifier\n",
        "#nltk.download('punkt')\n",
        "#nltk.download('stopwords')\n",
        "#nltk.download('wordnet')\n",
        "import warnings\n",
        "warnings.filterwarnings('ignore')"
      ],
      "execution_count": 93,
      "outputs": []
    },
    {
      "cell_type": "code",
      "metadata": {
        "colab": {
          "base_uri": "https://localhost:8080/",
          "height": 203
        },
        "id": "hQxkH1M1NgRN",
        "outputId": "67dbe248-440b-423a-bc77-354a90f7bf80"
      },
      "source": [
        "# Function for Label Encoding\n",
        "def label_encoding(path):\n",
        "  df= pd.read_csv(path)\n",
        "  le= LabelEncoder()\n",
        "  le.fit(df['class'].unique())\n",
        "  df['Label']= le.transform(df['class'])\n",
        "  return df\n",
        "\n",
        "# Performing Label Encoding\n",
        "df= label_encoding('/content/Eopinions.csv')\n",
        "df.head()"
      ],
      "execution_count": 45,
      "outputs": [
        {
          "output_type": "execute_result",
          "data": {
            "text/html": [
              "<div>\n",
              "<style scoped>\n",
              "    .dataframe tbody tr th:only-of-type {\n",
              "        vertical-align: middle;\n",
              "    }\n",
              "\n",
              "    .dataframe tbody tr th {\n",
              "        vertical-align: top;\n",
              "    }\n",
              "\n",
              "    .dataframe thead th {\n",
              "        text-align: right;\n",
              "    }\n",
              "</style>\n",
              "<table border=\"1\" class=\"dataframe\">\n",
              "  <thead>\n",
              "    <tr style=\"text-align: right;\">\n",
              "      <th></th>\n",
              "      <th>class</th>\n",
              "      <th>text</th>\n",
              "      <th>Label</th>\n",
              "    </tr>\n",
              "  </thead>\n",
              "  <tbody>\n",
              "    <tr>\n",
              "      <th>0</th>\n",
              "      <td>Auto</td>\n",
              "      <td>I have recently purchased a J30T with moderat...</td>\n",
              "      <td>0</td>\n",
              "    </tr>\n",
              "    <tr>\n",
              "      <th>1</th>\n",
              "      <td>Camera</td>\n",
              "      <td>I bought this product because I need instant ...</td>\n",
              "      <td>1</td>\n",
              "    </tr>\n",
              "    <tr>\n",
              "      <th>2</th>\n",
              "      <td>Auto</td>\n",
              "      <td>I have owned my Buick since 53000 km and I am...</td>\n",
              "      <td>0</td>\n",
              "    </tr>\n",
              "    <tr>\n",
              "      <th>3</th>\n",
              "      <td>Camera</td>\n",
              "      <td>This was my first Digital camera so I did qui...</td>\n",
              "      <td>1</td>\n",
              "    </tr>\n",
              "    <tr>\n",
              "      <th>4</th>\n",
              "      <td>Camera</td>\n",
              "      <td>Minolta DiMAGE 7Hi is in a digital SLR with 5...</td>\n",
              "      <td>1</td>\n",
              "    </tr>\n",
              "  </tbody>\n",
              "</table>\n",
              "</div>"
            ],
            "text/plain": [
              "    class                                               text  Label\n",
              "0    Auto   I have recently purchased a J30T with moderat...      0\n",
              "1  Camera   I bought this product because I need instant ...      1\n",
              "2    Auto   I have owned my Buick since 53000 km and I am...      0\n",
              "3  Camera   This was my first Digital camera so I did qui...      1\n",
              "4  Camera   Minolta DiMAGE 7Hi is in a digital SLR with 5...      1"
            ]
          },
          "metadata": {},
          "execution_count": 45
        }
      ]
    },
    {
      "cell_type": "code",
      "metadata": {
        "colab": {
          "base_uri": "https://localhost:8080/",
          "height": 334
        },
        "id": "xG7G2f8kN8-S",
        "outputId": "4be9a0be-3157-4dcd-c968-e1a37c3ebd01"
      },
      "source": [
        "# Plot a bar graph to compare the frequenciesof both the classes.\n",
        "import matplotlib.pyplot as plt\n",
        "import seaborn as sns\n",
        "\n",
        "plt.figure(figsize= [9,5])\n",
        "sns.countplot(df['class'])\n",
        "plt.show()"
      ],
      "execution_count": 46,
      "outputs": [
        {
          "output_type": "display_data",
          "data": {
            "image/png": "[encoded data removed]",
            "text/plain": [
              "<Figure size 648x360 with 1 Axes>"
            ]
          },
          "metadata": {
            "needs_background": "light"
          }
        }
      ]
    },
    {
      "cell_type": "code",
      "metadata": {
        "id": "D3n6Z9nnOcwD"
      },
      "source": [
        "# Text Pre-processing functions\n",
        "\n",
        "def Tokenize(text):\n",
        "    word_tok= word_tokenize(text)\n",
        "    word_freq= nltk.FreqDist(word_tok)\n",
        "    #for key, value in word_freq.items():\n",
        "        #print('Frequency of',key,':',value)\n",
        "    #print('least occurring tokens:',word_freq.most_common()[-5:])\n",
        "    return word_tok\n",
        "\n",
        "def RemoveStopWords(word_tok):\n",
        "    se= stopwords.words('english')\n",
        "    word_li=[]\n",
        "    st_li=[]\n",
        "    for w in word_tok:\n",
        "        if w.lower() not in se:\n",
        "            word_li.append(w)\n",
        "        else:\n",
        "            st_li.append(w)\n",
        "    #print(Counter(st_li))\n",
        "    return \" \".join(word_li)\n",
        "\n",
        "def Lemmatize(text):\n",
        "    word_tok= word_tokenize(text.lower())\n",
        "    lem= WordNetLemmatizer()\n",
        "    lem_li=[]\n",
        "    for w in word_tok:\n",
        "        lem_li.append(lem.lemmatize(w))\n",
        "    return word_tok, lem_li\n",
        "\n",
        "def Refine(text):\n",
        "    tokens= Tokenize(text.lower())\n",
        "    stop_w_rem= RemoveStopWords(tokens)\n",
        "    _,lemmas= Lemmatize(stop_w_rem)\n",
        "    rem_num= [lemma for lemma in lemmas if lemma.isnumeric()== False]\n",
        "    return (' '.join(rem_num))"
      ],
      "execution_count": 47,
      "outputs": []
    },
    {
      "cell_type": "code",
      "metadata": {
        "colab": {
          "base_uri": "https://localhost:8080/",
          "height": 203
        },
        "id": "8rbH7MkcPZIM",
        "outputId": "7d510c32-28df-49bd-9fc8-f9819047a71e"
      },
      "source": [
        "# Preprocess the ‘text’ column\n",
        "df['text_preprocessed']= df.text.apply(lambda x: Refine(x))\n",
        "df.head(5)"
      ],
      "execution_count": 48,
      "outputs": [
        {
          "output_type": "execute_result",
          "data": {
            "text/html": [
              "<div>\n",
              "<style scoped>\n",
              "    .dataframe tbody tr th:only-of-type {\n",
              "        vertical-align: middle;\n",
              "    }\n",
              "\n",
              "    .dataframe tbody tr th {\n",
              "        vertical-align: top;\n",
              "    }\n",
              "\n",
              "    .dataframe thead th {\n",
              "        text-align: right;\n",
              "    }\n",
              "</style>\n",
              "<table border=\"1\" class=\"dataframe\">\n",
              "  <thead>\n",
              "    <tr style=\"text-align: right;\">\n",
              "      <th></th>\n",
              "      <th>class</th>\n",
              "      <th>text</th>\n",
              "      <th>Label</th>\n",
              "      <th>text_preprocessed</th>\n",
              "    </tr>\n",
              "  </thead>\n",
              "  <tbody>\n",
              "    <tr>\n",
              "      <th>0</th>\n",
              "      <td>Auto</td>\n",
              "      <td>I have recently purchased a J30T with moderat...</td>\n",
              "      <td>0</td>\n",
              "      <td>recently purchased j30t moderate mile shopped ...</td>\n",
              "    </tr>\n",
              "    <tr>\n",
              "      <th>1</th>\n",
              "      <td>Camera</td>\n",
              "      <td>I bought this product because I need instant ...</td>\n",
              "      <td>1</td>\n",
              "      <td>bought product need instant gratification stan...</td>\n",
              "    </tr>\n",
              "    <tr>\n",
              "      <th>2</th>\n",
              "      <td>Auto</td>\n",
              "      <td>I have owned my Buick since 53000 km and I am...</td>\n",
              "      <td>0</td>\n",
              "      <td>owned buick since km approaching must say nice...</td>\n",
              "    </tr>\n",
              "    <tr>\n",
              "      <th>3</th>\n",
              "      <td>Camera</td>\n",
              "      <td>This was my first Digital camera so I did qui...</td>\n",
              "      <td>1</td>\n",
              "      <td>first digital camera quite bit research unfort...</td>\n",
              "    </tr>\n",
              "    <tr>\n",
              "      <th>4</th>\n",
              "      <td>Camera</td>\n",
              "      <td>Minolta DiMAGE 7Hi is in a digital SLR with 5...</td>\n",
              "      <td>1</td>\n",
              "      <td>minolta dimage 7hi digital slr megapixel ccd s...</td>\n",
              "    </tr>\n",
              "  </tbody>\n",
              "</table>\n",
              "</div>"
            ],
            "text/plain": [
              "    class  ...                                  text_preprocessed\n",
              "0    Auto  ...  recently purchased j30t moderate mile shopped ...\n",
              "1  Camera  ...  bought product need instant gratification stan...\n",
              "2    Auto  ...  owned buick since km approaching must say nice...\n",
              "3  Camera  ...  first digital camera quite bit research unfort...\n",
              "4  Camera  ...  minolta dimage 7hi digital slr megapixel ccd s...\n",
              "\n",
              "[5 rows x 4 columns]"
            ]
          },
          "metadata": {},
          "execution_count": 48
        }
      ]
    },
    {
      "cell_type": "code",
      "metadata": {
        "colab": {
          "base_uri": "https://localhost:8080/"
        },
        "id": "JlweW-mzQeZV",
        "outputId": "17caec83-2865-45dc-e6f1-518423a97901"
      },
      "source": [
        "# Vectorizing using CountVectorizer\n",
        "cv= CountVectorizer()\n",
        "X= cv.fit_transform(df.text_preprocessed)\n",
        "X= pd.DataFrame(X.toarray(), columns= cv.get_feature_names())\n",
        "X.shape"
      ],
      "execution_count": 63,
      "outputs": [
        {
          "output_type": "execute_result",
          "data": {
            "text/plain": [
              "(600, 11110)"
            ]
          },
          "metadata": {},
          "execution_count": 63
        }
      ]
    },
    {
      "cell_type": "code",
      "metadata": {
        "id": "brE5chCrR20o",
        "colab": {
          "base_uri": "https://localhost:8080/"
        },
        "outputId": "6761e0c0-45c3-4d6b-aa7e-09682fd96d33"
      },
      "source": [
        "# Getting target\n",
        "y= df.Label.values\n",
        "y= Y.reshape(-1,1)\n",
        "y.shape"
      ],
      "execution_count": 65,
      "outputs": [
        {
          "output_type": "execute_result",
          "data": {
            "text/plain": [
              "(600, 1)"
            ]
          },
          "metadata": {},
          "execution_count": 65
        }
      ]
    },
    {
      "cell_type": "code",
      "metadata": {
        "id": "c1VWgPy4EhEx"
      },
      "source": [
        "# Train Test split\n",
        "X_train, X_test, y_train, y_test= train_test_split(X, y, train_size= .8, random_state= 42, stratify= y)"
      ],
      "execution_count": 66,
      "outputs": []
    },
    {
      "cell_type": "code",
      "metadata": {
        "colab": {
          "base_uri": "https://localhost:8080/"
        },
        "id": "g0TXBur8GWuR",
        "outputId": "8917d5c1-4a67-4ecc-b96e-b1737ca31579"
      },
      "source": [
        "# Performing PCA on training dataset\n",
        "pca= PCA(.90)\n",
        "pca= pca.fit(X_train)\n",
        "X_train_pc= pca.transform(X_train)\n",
        "X_train_pc.shape"
      ],
      "execution_count": 72,
      "outputs": [
        {
          "output_type": "execute_result",
          "data": {
            "text/plain": [
              "(480, 173)"
            ]
          },
          "metadata": {},
          "execution_count": 72
        }
      ]
    },
    {
      "cell_type": "markdown",
      "metadata": {
        "id": "5pb-J7zGHDpg"
      },
      "source": [
        "90% of variance is explained by 173 features. Using PCA, we have reduced the dimension from 11110 to 173."
      ]
    },
    {
      "cell_type": "code",
      "metadata": {
        "id": "RvIJpXrwHDIb"
      },
      "source": [
        "# Performing PCA on testing dataset\n",
        "X_test_pc= pca.transform(X_test)"
      ],
      "execution_count": 73,
      "outputs": []
    },
    {
      "cell_type": "code",
      "metadata": {
        "colab": {
          "base_uri": "https://localhost:8080/"
        },
        "id": "wW3axNV7G2jC",
        "outputId": "babc4642-6e10-4540-ea5b-3780242c43be"
      },
      "source": [
        "# Implementing XgBoost Classifier\n",
        "\n",
        "xgb= XGBClassifier(learning_rate= .01, n_jobs= -1, random_state= 42)\n",
        "xgb.fit(X_train_pc, y_train)\n",
        "y_train_pred= xgb.predict(X_train_pc)\n",
        "y_test_pred= xgb.predict(X_test_pc)\n",
        "print('Training Accuracy:', accuracy_score(y_train, y_train_pred))\n",
        "print('Testing Accuracy:', accuracy_score(y_test, y_test_pred))"
      ],
      "execution_count": 78,
      "outputs": [
        {
          "output_type": "stream",
          "name": "stdout",
          "text": [
            "Training Accuracy: 0.9979166666666667\n",
            "Testing Accuracy: 0.9916666666666667\n"
          ]
        }
      ]
    },
    {
      "cell_type": "code",
      "metadata": {
        "colab": {
          "base_uri": "https://localhost:8080/",
          "height": 279
        },
        "id": "MdrVOzxQMYLU",
        "outputId": "8f7dc3d6-a8fd-477a-a856-43207b00c820"
      },
      "source": [
        "# Plotting Confusion Matrix on teting dataset\n",
        "plot_confusion_matrix(xgb, X_test_pc, y_test)\n",
        "plt.show()"
      ],
      "execution_count": 98,
      "outputs": [
        {
          "output_type": "display_data",
          "data": {
            "image/png": "[encoded data removed]",
            "text/plain": [
              "<Figure size 432x288 with 2 Axes>"
            ]
          },
          "metadata": {
            "needs_background": "light"
          }
        }
      ]
    },
    {
      "cell_type": "code",
      "metadata": {
        "colab": {
          "base_uri": "https://localhost:8080/"
        },
        "id": "9P9_SUkzIriD",
        "outputId": "5c3fb54b-1fb2-4c65-c7df-76b0b62ecd98"
      },
      "source": [
        "# Checking classification report on testing dataset\n",
        "print('Classification Report on testing data:\\n\\n', classification_report(y_test, y_test_pred))"
      ],
      "execution_count": 95,
      "outputs": [
        {
          "output_type": "stream",
          "name": "stdout",
          "text": [
            "Classification Report on testing data:\n",
            "\n",
            "               precision    recall  f1-score   support\n",
            "\n",
            "           0       0.98      1.00      0.99        50\n",
            "           1       1.00      0.99      0.99        70\n",
            "\n",
            "    accuracy                           0.99       120\n",
            "   macro avg       0.99      0.99      0.99       120\n",
            "weighted avg       0.99      0.99      0.99       120\n",
            "\n"
          ]
        }
      ]
    },
    {
      "cell_type": "code",
      "metadata": {
        "colab": {
          "base_uri": "https://localhost:8080/",
          "height": 279
        },
        "id": "iMpLS4oYI8MA",
        "outputId": "aa00d021-a1bd-4e7d-b96a-f53b7259f874"
      },
      "source": [
        "# Plotting ROC on teting dataset\n",
        "plot_roc_curve(xgb, X_test_pc, y_test)\n",
        "plt.show()"
      ],
      "execution_count": 92,
      "outputs": [
        {
          "output_type": "display_data",
          "data": {
            "image/png": "[encoded data removed]",
            "text/plain": [
              "<Figure size 432x288 with 1 Axes>"
            ]
          },
          "metadata": {
            "needs_background": "light"
          }
        }
      ]
    },
    {
      "cell_type": "markdown",
      "metadata": {
        "id": "bM1OQlXDI0No"
      },
      "source": [
        "AUC = 1 on tetsing dataset. We have got very good accuracy and other metrics on training and testing dataset."
      ]
    }
  ]
}